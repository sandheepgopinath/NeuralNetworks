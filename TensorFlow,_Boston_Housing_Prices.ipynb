{
  "nbformat": 4,
  "nbformat_minor": 0,
  "metadata": {
    "colab": {
      "name": "TensorFlow, Boston Housing Prices",
      "provenance": [],
      "authorship_tag": "ABX9TyO4Fv/szOWG0SkC20xlMYI2",
      "include_colab_link": true
    },
    "kernelspec": {
      "name": "python3",
      "display_name": "Python 3"
    }
  },
  "cells": [
    {
      "cell_type": "markdown",
      "metadata": {
        "id": "view-in-github",
        "colab_type": "text"
      },
      "source": [
        "<a href=\"https://colab.research.google.com/github/sandheepgopinath/NeuralNetworks/blob/master/TensorFlow%2C_Boston_Housing_Prices.ipynb\" target=\"_parent\"><img src=\"https://colab.research.google.com/assets/colab-badge.svg\" alt=\"Open In Colab\"/></a>"
      ]
    },
    {
      "cell_type": "code",
      "metadata": {
        "id": "i51z6gBRa-W1",
        "colab_type": "code",
        "colab": {}
      },
      "source": [
        "import tensorflow.compat.v1 as tf\n",
        "\n",
        "tf.reset_default_graph()"
      ],
      "execution_count": 0,
      "outputs": []
    },
    {
      "cell_type": "code",
      "metadata": {
        "id": "GMXzslk8plqf",
        "colab_type": "code",
        "colab": {}
      },
      "source": [
        "from tensorflow.python.keras.datasets import boston_housing\n",
        "(features, actual_prices),_ = boston_housing.load_data(test_split=0)"
      ],
      "execution_count": 0,
      "outputs": []
    },
    {
      "cell_type": "code",
      "metadata": {
        "id": "wHFjYz6WqNzj",
        "colab_type": "code",
        "colab": {
          "base_uri": "https://localhost:8080/",
          "height": 34
        },
        "outputId": "89ceb73f-8e71-4eaa-bba0-ef59dcb12419"
      },
      "source": [
        "print('There are ',features.shape[0],' rows and ',features.shape[1],' attributes')"
      ],
      "execution_count": 16,
      "outputs": [
        {
          "output_type": "stream",
          "text": [
            "There are  506  rows and  13  attributes\n"
          ],
          "name": "stdout"
        }
      ]
    },
    {
      "cell_type": "code",
      "metadata": {
        "id": "izoxsjdtqffZ",
        "colab_type": "code",
        "colab": {}
      },
      "source": [
        "# Defining the place holders for input and output\n",
        "x=tf.placeholder(shape=[None,13],dtype=tf.float32,name='input')\n",
        "x_n=tf.layers.batch_normalization(x,training=True)\n",
        "y=tf.placeholder(shape=[None],dtype=tf.float32,name='output')"
      ],
      "execution_count": 0,
      "outputs": []
    },
    {
      "cell_type": "code",
      "metadata": {
        "id": "vrMNpRTWuBCK",
        "colab_type": "code",
        "colab": {}
      },
      "source": [
        "# Initializing weights and Bias\n",
        "\n",
        "W=tf.Variable(tf.zeros(shape=[13,1]),name='weights')\n",
        "B=tf.Variable(tf.zeros(shape=[1]),name='bias')"
      ],
      "execution_count": 0,
      "outputs": []
    },
    {
      "cell_type": "code",
      "metadata": {
        "id": "1PdKxfQrunjS",
        "colab_type": "code",
        "colab": {}
      },
      "source": [
        "#Results \n",
        "\n",
        "output=tf.add(tf.matmul(x_n,W),B,name='output')\n"
      ],
      "execution_count": 0,
      "outputs": []
    },
    {
      "cell_type": "code",
      "metadata": {
        "id": "vHMCDipuvG8u",
        "colab_type": "code",
        "colab": {}
      },
      "source": [
        "#Loss\n",
        "\n",
        "loss=tf.reduce_mean(tf.square(output-y),name='loss')"
      ],
      "execution_count": 0,
      "outputs": []
    },
    {
      "cell_type": "code",
      "metadata": {
        "id": "8gmj9pllvwqu",
        "colab_type": "code",
        "colab": {}
      },
      "source": [
        "#Gradient Descent\n",
        "\n",
        "gradientDescent=tf.train.GradientDescentOptimizer(0.03).minimize(loss)"
      ],
      "execution_count": 0,
      "outputs": []
    },
    {
      "cell_type": "code",
      "metadata": {
        "id": "A-XSlXSLwFmk",
        "colab_type": "code",
        "colab": {}
      },
      "source": [
        "#Now all the functions are initilized. The varibles are to be initialized before running the model. \n",
        "sess=tf.Session()\n",
        "sess.run(tf.initialize_all_variables())\n",
        "sess.run(tf.global_variables_initializer())"
      ],
      "execution_count": 0,
      "outputs": []
    },
    {
      "cell_type": "code",
      "metadata": {
        "id": "ZaEo1JbswY2p",
        "colab_type": "code",
        "colab": {
          "base_uri": "https://localhost:8080/",
          "height": 364
        },
        "outputId": "9c53e5d7-2eca-4299-824b-f60aad7fd439"
      },
      "source": [
        "#Let us run the model for 100 epoch and note the result for every 5 epochs. \n",
        "import numpy as np\n",
        "epoch=100\n",
        "losses=np.zeros(20)\n",
        "j=0\n",
        "\n",
        "for i in range(0,epoch):\n",
        "  _,train_loss=sess.run([gradientDescent,loss],feed_dict={x:features,y:actual_prices})\n",
        "  if i%5==0:\n",
        "    losses[j]=train_loss\n",
        "    j=j+1\n",
        "    print(train_loss)\n",
        "\n",
        "sess.close()"
      ],
      "execution_count": 23,
      "outputs": [
        {
          "output_type": "stream",
          "text": [
            "592.147\n",
            "357.88913\n",
            "231.71223\n",
            "163.55998\n",
            "121.85424\n",
            "87.67367\n",
            "84.96785\n",
            "84.64693\n",
            "84.55524\n",
            "84.51553\n",
            "84.49233\n",
            "84.4766\n",
            "84.46514\n",
            "84.456474\n",
            "84.44973\n",
            "84.4444\n",
            "84.44013\n",
            "84.43666\n",
            "84.433846\n",
            "84.431526\n"
          ],
          "name": "stdout"
        }
      ]
    },
    {
      "cell_type": "code",
      "metadata": {
        "id": "8F0r_0lowmJG",
        "colab_type": "code",
        "colab": {
          "base_uri": "https://localhost:8080/",
          "height": 282
        },
        "outputId": "f6f03a1b-e12b-495f-df4c-13df4ce328bb"
      },
      "source": [
        "import matplotlib.pyplot as plt\n",
        "plt.plot(losses)"
      ],
      "execution_count": 26,
      "outputs": [
        {
          "output_type": "execute_result",
          "data": {
            "text/plain": [
              "[<matplotlib.lines.Line2D at 0x7f9664d47b70>]"
            ]
          },
          "metadata": {
            "tags": []
          },
          "execution_count": 26
        },
        {
          "output_type": "display_data",
          "data": {
            "image/png": "[encoded data removed]",
            "text/plain": [
              "<Figure size 432x288 with 1 Axes>"
            ]
          },
          "metadata": {
            "tags": []
          }
        }
      ]
    },
    {
      "cell_type": "code",
      "metadata": {
        "id": "yfL4LITM4orT",
        "colab_type": "code",
        "colab": {}
      },
      "source": [
        ""
      ],
      "execution_count": 0,
      "outputs": []
    }
  ]
}