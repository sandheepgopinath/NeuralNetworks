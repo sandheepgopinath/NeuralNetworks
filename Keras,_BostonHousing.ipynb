{
  "nbformat": 4,
  "nbformat_minor": 0,
  "metadata": {
    "colab": {
      "name": "Keras, BostonHousing",
      "provenance": [],
      "authorship_tag": "ABX9TyPd2EeorUbbwY4w7VspsU/t",
      "include_colab_link": true
    },
    "kernelspec": {
      "name": "python3",
      "display_name": "Python 3"
    }
  },
  "cells": [
    {
      "cell_type": "markdown",
      "metadata": {
        "id": "view-in-github",
        "colab_type": "text"
      },
      "source": [
        "<a href=\"https://colab.research.google.com/github/sandheepgopinath/NeuralNetworks/blob/master/Keras%2C_BostonHousing.ipynb\" target=\"_parent\"><img src=\"https://colab.research.google.com/assets/colab-badge.svg\" alt=\"Open In Colab\"/></a>"
      ]
    },
    {
      "cell_type": "code",
      "metadata": {
        "id": "bY2gUlDwzS6F",
        "colab_type": "code",
        "colab": {}
      },
      "source": [
        "import tensorflow as tf"
      ],
      "execution_count": 0,
      "outputs": []
    },
    {
      "cell_type": "code",
      "metadata": {
        "id": "GSUn7LBY1ddo",
        "colab_type": "code",
        "colab": {
          "base_uri": "https://localhost:8080/",
          "height": 34
        },
        "outputId": "67aa4b7f-fd17-4cd8-ecc1-dbbe088663ea"
      },
      "source": [
        "tf.keras.__version__"
      ],
      "execution_count": 4,
      "outputs": [
        {
          "output_type": "execute_result",
          "data": {
            "text/plain": [
              "'2.2.4-tf'"
            ]
          },
          "metadata": {
            "tags": []
          },
          "execution_count": 4
        }
      ]
    },
    {
      "cell_type": "code",
      "metadata": {
        "id": "6gu4Y09_3z3d",
        "colab_type": "code",
        "colab": {}
      },
      "source": [
        "#Reading the data from the default libraries\n",
        "\n",
        "(features,actual_price),_=tf.keras.datasets.boston_housing.load_data(test_split=0)"
      ],
      "execution_count": 0,
      "outputs": []
    },
    {
      "cell_type": "code",
      "metadata": {
        "id": "ugnrASct4oZU",
        "colab_type": "code",
        "colab": {}
      },
      "source": [
        "#Creating a sequential model pipeline\n",
        "\n",
        "model=tf.keras.models.Sequential()\n"
      ],
      "execution_count": 0,
      "outputs": []
    },
    {
      "cell_type": "code",
      "metadata": {
        "id": "o9-zRzaB5uCo",
        "colab_type": "code",
        "colab": {}
      },
      "source": [
        "# Adding Batch normalization to the pipeline\n",
        "model.add(tf.keras.layers.BatchNormalization(input_shape=(13,)))"
      ],
      "execution_count": 0,
      "outputs": []
    },
    {
      "cell_type": "code",
      "metadata": {
        "id": "I30tFoFY5_KS",
        "colab_type": "code",
        "colab": {}
      },
      "source": [
        "#Adding dense layer for Input*W+Bias\n",
        "\n",
        "model.add(tf.keras.layers.Dense(1))\n",
        "\n",
        "# Here the weights and bias are initilized using Xaviers Intilization"
      ],
      "execution_count": 0,
      "outputs": []
    },
    {
      "cell_type": "code",
      "metadata": {
        "id": "CuyIqYps6Sef",
        "colab_type": "code",
        "colab": {}
      },
      "source": [
        "#Adding Gradient Descent and Loss function to the pipeline\n",
        "\n",
        "model.compile(optimizer='sgd',loss='mse')\n"
      ],
      "execution_count": 0,
      "outputs": []
    },
    {
      "cell_type": "code",
      "metadata": {
        "id": "P4FQTN8B6qFf",
        "colab_type": "code",
        "colab": {
          "base_uri": "https://localhost:8080/",
          "height": 1000
        },
        "outputId": "621f1e13-8aff-411f-b1d9-85d106062c52"
      },
      "source": [
        "#Running the model by using Fit function\n",
        "\n",
        "model.fit(features,actual_price,epochs=100)"
      ],
      "execution_count": 18,
      "outputs": [
        {
          "output_type": "stream",
          "text": [
            "Train on 506 samples\n",
            "Epoch 1/100\n",
            "506/506 [==============================] - 0s 941us/sample - loss: 188.4073\n",
            "Epoch 2/100\n",
            "506/506 [==============================] - 0s 45us/sample - loss: 34.7469\n",
            "Epoch 3/100\n",
            "506/506 [==============================] - 0s 51us/sample - loss: 33.3465\n",
            "Epoch 4/100\n",
            "506/506 [==============================] - 0s 42us/sample - loss: 33.0009\n",
            "Epoch 5/100\n",
            "506/506 [==============================] - 0s 43us/sample - loss: 33.1050\n",
            "Epoch 6/100\n",
            "506/506 [==============================] - 0s 45us/sample - loss: 30.6780\n",
            "Epoch 7/100\n",
            "506/506 [==============================] - 0s 40us/sample - loss: 32.4476\n",
            "Epoch 8/100\n",
            "506/506 [==============================] - 0s 44us/sample - loss: 28.4118\n",
            "Epoch 9/100\n",
            "506/506 [==============================] - 0s 48us/sample - loss: 28.6656\n",
            "Epoch 10/100\n",
            "506/506 [==============================] - 0s 43us/sample - loss: 27.6411\n",
            "Epoch 11/100\n",
            "506/506 [==============================] - 0s 45us/sample - loss: 26.8371\n",
            "Epoch 12/100\n",
            "506/506 [==============================] - 0s 44us/sample - loss: 30.1497\n",
            "Epoch 13/100\n",
            "506/506 [==============================] - 0s 48us/sample - loss: 25.4607\n",
            "Epoch 14/100\n",
            "506/506 [==============================] - 0s 48us/sample - loss: 24.6797\n",
            "Epoch 15/100\n",
            "506/506 [==============================] - 0s 42us/sample - loss: 29.5969\n",
            "Epoch 16/100\n",
            "506/506 [==============================] - 0s 45us/sample - loss: 29.1268\n",
            "Epoch 17/100\n",
            "506/506 [==============================] - 0s 49us/sample - loss: 33.0645\n",
            "Epoch 18/100\n",
            "506/506 [==============================] - 0s 44us/sample - loss: 26.7855\n",
            "Epoch 19/100\n",
            "506/506 [==============================] - 0s 45us/sample - loss: 27.6323\n",
            "Epoch 20/100\n",
            "506/506 [==============================] - 0s 46us/sample - loss: 28.0409\n",
            "Epoch 21/100\n",
            "506/506 [==============================] - 0s 50us/sample - loss: 27.0382\n",
            "Epoch 22/100\n",
            "506/506 [==============================] - 0s 43us/sample - loss: 28.0740\n",
            "Epoch 23/100\n",
            "506/506 [==============================] - 0s 47us/sample - loss: 27.3438\n",
            "Epoch 24/100\n",
            "506/506 [==============================] - 0s 43us/sample - loss: 28.0206\n",
            "Epoch 25/100\n",
            "506/506 [==============================] - 0s 43us/sample - loss: 26.3312\n",
            "Epoch 26/100\n",
            "506/506 [==============================] - 0s 46us/sample - loss: 26.6908\n",
            "Epoch 27/100\n",
            "506/506 [==============================] - 0s 45us/sample - loss: 26.5511\n",
            "Epoch 28/100\n",
            "506/506 [==============================] - 0s 44us/sample - loss: 26.7009\n",
            "Epoch 29/100\n",
            "506/506 [==============================] - 0s 45us/sample - loss: 25.9721\n",
            "Epoch 30/100\n",
            "506/506 [==============================] - 0s 47us/sample - loss: 30.9950\n",
            "Epoch 31/100\n",
            "506/506 [==============================] - 0s 46us/sample - loss: 27.3164\n",
            "Epoch 32/100\n",
            "506/506 [==============================] - 0s 51us/sample - loss: 32.0642\n",
            "Epoch 33/100\n",
            "506/506 [==============================] - 0s 42us/sample - loss: 28.4404\n",
            "Epoch 34/100\n",
            "506/506 [==============================] - 0s 42us/sample - loss: 29.3524\n",
            "Epoch 35/100\n",
            "506/506 [==============================] - 0s 47us/sample - loss: 28.5544\n",
            "Epoch 36/100\n",
            "506/506 [==============================] - 0s 45us/sample - loss: 29.1778\n",
            "Epoch 37/100\n",
            "506/506 [==============================] - 0s 41us/sample - loss: 28.6759\n",
            "Epoch 38/100\n",
            "506/506 [==============================] - 0s 46us/sample - loss: 29.6625\n",
            "Epoch 39/100\n",
            "506/506 [==============================] - 0s 53us/sample - loss: 24.5638\n",
            "Epoch 40/100\n",
            "506/506 [==============================] - 0s 43us/sample - loss: 29.6213\n",
            "Epoch 41/100\n",
            "506/506 [==============================] - 0s 49us/sample - loss: 26.2090\n",
            "Epoch 42/100\n",
            "506/506 [==============================] - 0s 42us/sample - loss: 30.6325\n",
            "Epoch 43/100\n",
            "506/506 [==============================] - 0s 44us/sample - loss: 23.5920\n",
            "Epoch 44/100\n",
            "506/506 [==============================] - 0s 45us/sample - loss: 25.1556\n",
            "Epoch 45/100\n",
            "506/506 [==============================] - 0s 46us/sample - loss: 27.9538\n",
            "Epoch 46/100\n",
            "506/506 [==============================] - 0s 46us/sample - loss: 27.3651\n",
            "Epoch 47/100\n",
            "506/506 [==============================] - 0s 41us/sample - loss: 30.0355\n",
            "Epoch 48/100\n",
            "506/506 [==============================] - 0s 52us/sample - loss: 28.8720\n",
            "Epoch 49/100\n",
            "506/506 [==============================] - 0s 49us/sample - loss: 31.7455\n",
            "Epoch 50/100\n",
            "506/506 [==============================] - 0s 44us/sample - loss: 26.6662\n",
            "Epoch 51/100\n",
            "506/506 [==============================] - 0s 48us/sample - loss: 29.3165\n",
            "Epoch 52/100\n",
            "506/506 [==============================] - 0s 48us/sample - loss: 26.7877\n",
            "Epoch 53/100\n",
            "506/506 [==============================] - 0s 46us/sample - loss: 32.2497\n",
            "Epoch 54/100\n",
            "506/506 [==============================] - 0s 46us/sample - loss: 28.9433\n",
            "Epoch 55/100\n",
            "506/506 [==============================] - 0s 44us/sample - loss: 27.2077\n",
            "Epoch 56/100\n",
            "506/506 [==============================] - 0s 46us/sample - loss: 29.0523\n",
            "Epoch 57/100\n",
            "506/506 [==============================] - 0s 46us/sample - loss: 29.7864\n",
            "Epoch 58/100\n",
            "506/506 [==============================] - 0s 46us/sample - loss: 25.2631\n",
            "Epoch 59/100\n",
            "506/506 [==============================] - 0s 49us/sample - loss: 28.6870\n",
            "Epoch 60/100\n",
            "506/506 [==============================] - 0s 41us/sample - loss: 27.4153\n",
            "Epoch 61/100\n",
            "506/506 [==============================] - 0s 58us/sample - loss: 27.4822\n",
            "Epoch 62/100\n",
            "506/506 [==============================] - 0s 44us/sample - loss: 27.9150\n",
            "Epoch 63/100\n",
            "506/506 [==============================] - 0s 44us/sample - loss: 29.6768\n",
            "Epoch 64/100\n",
            "506/506 [==============================] - 0s 45us/sample - loss: 26.0866\n",
            "Epoch 65/100\n",
            "506/506 [==============================] - 0s 42us/sample - loss: 29.9615\n",
            "Epoch 66/100\n",
            "506/506 [==============================] - 0s 41us/sample - loss: 26.5709\n",
            "Epoch 67/100\n",
            "506/506 [==============================] - 0s 47us/sample - loss: 30.0354\n",
            "Epoch 68/100\n",
            "506/506 [==============================] - 0s 44us/sample - loss: 29.3587\n",
            "Epoch 69/100\n",
            "506/506 [==============================] - 0s 40us/sample - loss: 24.2985\n",
            "Epoch 70/100\n",
            "506/506 [==============================] - 0s 46us/sample - loss: 25.7298\n",
            "Epoch 71/100\n",
            "506/506 [==============================] - 0s 44us/sample - loss: 32.6969\n",
            "Epoch 72/100\n",
            "506/506 [==============================] - 0s 43us/sample - loss: 29.3959\n",
            "Epoch 73/100\n",
            "506/506 [==============================] - 0s 47us/sample - loss: 30.9723\n",
            "Epoch 74/100\n",
            "506/506 [==============================] - 0s 47us/sample - loss: 29.5056\n",
            "Epoch 75/100\n",
            "506/506 [==============================] - 0s 45us/sample - loss: 25.1570\n",
            "Epoch 76/100\n",
            "506/506 [==============================] - 0s 50us/sample - loss: 28.1500\n",
            "Epoch 77/100\n",
            "506/506 [==============================] - 0s 46us/sample - loss: 26.1083\n",
            "Epoch 78/100\n",
            "506/506 [==============================] - 0s 44us/sample - loss: 25.4534\n",
            "Epoch 79/100\n",
            "506/506 [==============================] - 0s 44us/sample - loss: 32.9183\n",
            "Epoch 80/100\n",
            "506/506 [==============================] - 0s 44us/sample - loss: 32.0127\n",
            "Epoch 81/100\n",
            "506/506 [==============================] - 0s 48us/sample - loss: 29.0176\n",
            "Epoch 82/100\n",
            "506/506 [==============================] - 0s 44us/sample - loss: 28.2900\n",
            "Epoch 83/100\n",
            "506/506 [==============================] - 0s 48us/sample - loss: 28.0029\n",
            "Epoch 84/100\n",
            "506/506 [==============================] - 0s 45us/sample - loss: 26.4744\n",
            "Epoch 85/100\n",
            "506/506 [==============================] - 0s 61us/sample - loss: 28.5284\n",
            "Epoch 86/100\n",
            "506/506 [==============================] - 0s 41us/sample - loss: 25.6330\n",
            "Epoch 87/100\n",
            "506/506 [==============================] - 0s 52us/sample - loss: 25.9554\n",
            "Epoch 88/100\n",
            "506/506 [==============================] - 0s 42us/sample - loss: 28.1005\n",
            "Epoch 89/100\n",
            "506/506 [==============================] - 0s 48us/sample - loss: 28.8729\n",
            "Epoch 90/100\n",
            "506/506 [==============================] - 0s 44us/sample - loss: 30.4571\n",
            "Epoch 91/100\n",
            "506/506 [==============================] - 0s 45us/sample - loss: 29.4205\n",
            "Epoch 92/100\n",
            "506/506 [==============================] - 0s 47us/sample - loss: 25.8545\n",
            "Epoch 93/100\n",
            "506/506 [==============================] - 0s 48us/sample - loss: 29.2738\n",
            "Epoch 94/100\n",
            "506/506 [==============================] - 0s 47us/sample - loss: 23.8952\n",
            "Epoch 95/100\n",
            "506/506 [==============================] - 0s 44us/sample - loss: 28.6185\n",
            "Epoch 96/100\n",
            "506/506 [==============================] - 0s 55us/sample - loss: 28.1121\n",
            "Epoch 97/100\n",
            "506/506 [==============================] - 0s 42us/sample - loss: 27.7606\n",
            "Epoch 98/100\n",
            "506/506 [==============================] - 0s 45us/sample - loss: 28.8689\n",
            "Epoch 99/100\n",
            "506/506 [==============================] - 0s 46us/sample - loss: 29.9356\n",
            "Epoch 100/100\n",
            "506/506 [==============================] - 0s 44us/sample - loss: 25.1771\n"
          ],
          "name": "stdout"
        },
        {
          "output_type": "execute_result",
          "data": {
            "text/plain": [
              "<tensorflow.python.keras.callbacks.History at 0x7f6f31cd8f98>"
            ]
          },
          "metadata": {
            "tags": []
          },
          "execution_count": 18
        }
      ]
    },
    {
      "cell_type": "code",
      "metadata": {
        "id": "kAUKpGq462WI",
        "colab_type": "code",
        "colab": {
          "base_uri": "https://localhost:8080/",
          "height": 34
        },
        "outputId": "6503ee1c-d0f9-493d-dc12-0b4f5f88df7a"
      },
      "source": [
        "_"
      ],
      "execution_count": 19,
      "outputs": [
        {
          "output_type": "execute_result",
          "data": {
            "text/plain": [
              "<tensorflow.python.keras.callbacks.History at 0x7f6f31cd8f98>"
            ]
          },
          "metadata": {
            "tags": []
          },
          "execution_count": 19
        }
      ]
    },
    {
      "cell_type": "code",
      "metadata": {
        "id": "QgxacHED7IUx",
        "colab_type": "code",
        "colab": {}
      },
      "source": [
        ""
      ],
      "execution_count": 0,
      "outputs": []
    }
  ]
}