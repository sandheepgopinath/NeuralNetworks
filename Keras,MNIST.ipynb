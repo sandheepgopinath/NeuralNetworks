{
  "nbformat": 4,
  "nbformat_minor": 0,
  "metadata": {
    "colab": {
      "name": "Keras,MNIST",
      "provenance": [],
      "authorship_tag": "ABX9TyMgqIjd0vaVtosDvm4/lLt/",
      "include_colab_link": true
    },
    "kernelspec": {
      "name": "python3",
      "display_name": "Python 3"
    }
  },
  "cells": [
    {
      "cell_type": "markdown",
      "metadata": {
        "id": "view-in-github",
        "colab_type": "text"
      },
      "source": [
        "<a href=\"https://colab.research.google.com/github/sandheepgopinath/NeuralNetworks/blob/master/Keras%2CMNIST.ipynb\" target=\"_parent\"><img src=\"https://colab.research.google.com/assets/colab-badge.svg\" alt=\"Open In Colab\"/></a>"
      ]
    },
    {
      "cell_type": "code",
      "metadata": {
        "id": "Zv4xE5XCOTqh",
        "colab_type": "code",
        "colab": {}
      },
      "source": [
        "import tensorflow as tf\n",
        "tf.reset_default_graph()\n"
      ],
      "execution_count": 0,
      "outputs": []
    },
    {
      "cell_type": "code",
      "metadata": {
        "id": "ZHwcIktMOm9V",
        "colab_type": "code",
        "colab": {}
      },
      "source": [
        "#oading the data from inbuilt libraries\n",
        "(trainX, trainY),(testX, testY) = tf.keras.datasets.mnist.load_data()"
      ],
      "execution_count": 0,
      "outputs": []
    },
    {
      "cell_type": "code",
      "metadata": {
        "id": "7NPIy-HCOvv5",
        "colab_type": "code",
        "colab": {}
      },
      "source": [
        "#OneHotEncoding the data using keras.util.tocategorical function\n",
        "trainY=tf.keras.utils.to_categorical(trainY,num_classes=10)\n",
        "testY=tf.keras.utils.to_categorical(testY,num_classes=10)"
      ],
      "execution_count": 0,
      "outputs": []
    },
    {
      "cell_type": "code",
      "metadata": {
        "id": "FjFt_lsbO6LK",
        "colab_type": "code",
        "colab": {}
      },
      "source": [
        "# Bulding the graph using sequential function\n",
        "\n",
        "model=tf.keras.Sequential()\n",
        "\n",
        "#Reshaping the 28*28 image to a 1D vector for processing in the layers\n",
        "\n",
        "model.add(tf.keras.layers.Reshape((784,),input_shape=(28,28,)))\n",
        "#Adding layers to the pipeline\n",
        "\n",
        "model.add(tf.keras.layers.BatchNormalization())"
      ],
      "execution_count": 0,
      "outputs": []
    },
    {
      "cell_type": "code",
      "metadata": {
        "id": "M0CAx2I8PJws",
        "colab_type": "code",
        "colab": {}
      },
      "source": [
        "model.add(tf.keras.layers.Dense(200, activation='sigmoid'))\n",
        "model.add(tf.keras.layers.Dropout(0.3))"
      ],
      "execution_count": 0,
      "outputs": []
    },
    {
      "cell_type": "code",
      "metadata": {
        "id": "myngScFrPLry",
        "colab_type": "code",
        "colab": {}
      },
      "source": [
        "model.add(tf.keras.layers.Dense(100,activation='relu'))\n",
        "model.add(tf.keras.layers.BatchNormalization())"
      ],
      "execution_count": 0,
      "outputs": []
    },
    {
      "cell_type": "code",
      "metadata": {
        "id": "sbjgyrfbY2um",
        "colab_type": "code",
        "colab": {}
      },
      "source": [
        "model.add(tf.keras.layers.Dense(60,activation='sigmoid'))\n",
        "model.add(tf.keras.layers.Dense(30,activation='sigmoid'))"
      ],
      "execution_count": 0,
      "outputs": []
    },
    {
      "cell_type": "code",
      "metadata": {
        "id": "zb8kZhWpY_P4",
        "colab_type": "code",
        "colab": {}
      },
      "source": [
        "model.add(tf.keras.layers.Dense(10,activation='softmax'))"
      ],
      "execution_count": 0,
      "outputs": []
    },
    {
      "cell_type": "code",
      "metadata": {
        "id": "FDTeA8mZZR0W",
        "colab_type": "code",
        "colab": {}
      },
      "source": [
        "#Optimizer and Loss\n",
        "\n",
        "model.compile(optimizer='sgd',loss='mse',metrics=['accuracy'])"
      ],
      "execution_count": 0,
      "outputs": []
    },
    {
      "cell_type": "code",
      "metadata": {
        "id": "DK5d-JoDZi_c",
        "colab_type": "code",
        "colab": {
          "base_uri": "https://localhost:8080/",
          "height": 457
        },
        "outputId": "7ee93dd9-064c-4d55-f1c0-383606ceec78"
      },
      "source": [
        "#Summary of the created model\n",
        "model.summary()"
      ],
      "execution_count": 11,
      "outputs": [
        {
          "output_type": "stream",
          "text": [
            "Model: \"sequential\"\n",
            "_________________________________________________________________\n",
            "Layer (type)                 Output Shape              Param #   \n",
            "=================================================================\n",
            "reshape (Reshape)            (None, 784)               0         \n",
            "_________________________________________________________________\n",
            "batch_normalization (BatchNo (None, 784)               3136      \n",
            "_________________________________________________________________\n",
            "dense (Dense)                (None, 200)               157000    \n",
            "_________________________________________________________________\n",
            "dropout (Dropout)            (None, 200)               0         \n",
            "_________________________________________________________________\n",
            "dense_1 (Dense)              (None, 100)               20100     \n",
            "_________________________________________________________________\n",
            "batch_normalization_1 (Batch (None, 100)               400       \n",
            "_________________________________________________________________\n",
            "dense_2 (Dense)              (None, 60)                6060      \n",
            "_________________________________________________________________\n",
            "dense_3 (Dense)              (None, 30)                1830      \n",
            "_________________________________________________________________\n",
            "dense_4 (Dense)              (None, 10)                310       \n",
            "=================================================================\n",
            "Total params: 188,836\n",
            "Trainable params: 187,068\n",
            "Non-trainable params: 1,768\n",
            "_________________________________________________________________\n"
          ],
          "name": "stdout"
        }
      ]
    },
    {
      "cell_type": "code",
      "metadata": {
        "id": "GcCmjDPbZnMH",
        "colab_type": "code",
        "colab": {
          "base_uri": "https://localhost:8080/",
          "height": 1000
        },
        "outputId": "05d5da71-c434-472a-e833-cf308ea9717e"
      },
      "source": [
        "model.fit(trainX,trainY,batch_size=32,validation_data=(testX,testY),epochs=100)"
      ],
      "execution_count": 12,
      "outputs": [
        {
          "output_type": "stream",
          "text": [
            "Train on 60000 samples, validate on 10000 samples\n",
            "Epoch 1/100\n",
            "60000/60000 [==============================] - 7s 114us/sample - loss: 0.0928 - acc: 0.0974 - val_loss: 0.0914 - val_acc: 0.0982\n",
            "Epoch 2/100\n",
            "60000/60000 [==============================] - 7s 111us/sample - loss: 0.0910 - acc: 0.1106 - val_loss: 0.0905 - val_acc: 0.1135\n",
            "Epoch 3/100\n",
            "60000/60000 [==============================] - 7s 110us/sample - loss: 0.0904 - acc: 0.1344 - val_loss: 0.0900 - val_acc: 0.1780\n",
            "Epoch 4/100\n",
            "60000/60000 [==============================] - 6s 108us/sample - loss: 0.0900 - acc: 0.1532 - val_loss: 0.0897 - val_acc: 0.2108\n",
            "Epoch 5/100\n",
            "60000/60000 [==============================] - 7s 108us/sample - loss: 0.0897 - acc: 0.1776 - val_loss: 0.0894 - val_acc: 0.3000\n",
            "Epoch 6/100\n",
            "60000/60000 [==============================] - 7s 112us/sample - loss: 0.0895 - acc: 0.2040 - val_loss: 0.0892 - val_acc: 0.3010\n",
            "Epoch 7/100\n",
            "60000/60000 [==============================] - 7s 109us/sample - loss: 0.0893 - acc: 0.2212 - val_loss: 0.0890 - val_acc: 0.2713\n",
            "Epoch 8/100\n",
            "60000/60000 [==============================] - 7s 110us/sample - loss: 0.0891 - acc: 0.2268 - val_loss: 0.0888 - val_acc: 0.2539\n",
            "Epoch 9/100\n",
            "60000/60000 [==============================] - 7s 110us/sample - loss: 0.0890 - acc: 0.2325 - val_loss: 0.0887 - val_acc: 0.2601\n",
            "Epoch 10/100\n",
            "60000/60000 [==============================] - 7s 111us/sample - loss: 0.0888 - acc: 0.2426 - val_loss: 0.0885 - val_acc: 0.2671\n",
            "Epoch 11/100\n",
            "60000/60000 [==============================] - 7s 109us/sample - loss: 0.0887 - acc: 0.2512 - val_loss: 0.0883 - val_acc: 0.2816\n",
            "Epoch 12/100\n",
            "60000/60000 [==============================] - 7s 111us/sample - loss: 0.0885 - acc: 0.2548 - val_loss: 0.0881 - val_acc: 0.2935\n",
            "Epoch 13/100\n",
            "60000/60000 [==============================] - 7s 109us/sample - loss: 0.0883 - acc: 0.2670 - val_loss: 0.0879 - val_acc: 0.3075\n",
            "Epoch 14/100\n",
            "60000/60000 [==============================] - 7s 109us/sample - loss: 0.0882 - acc: 0.2718 - val_loss: 0.0876 - val_acc: 0.3200\n",
            "Epoch 15/100\n",
            "60000/60000 [==============================] - 7s 113us/sample - loss: 0.0880 - acc: 0.2804 - val_loss: 0.0874 - val_acc: 0.3256\n",
            "Epoch 16/100\n",
            "60000/60000 [==============================] - 7s 110us/sample - loss: 0.0878 - acc: 0.2891 - val_loss: 0.0871 - val_acc: 0.3372\n",
            "Epoch 17/100\n",
            "60000/60000 [==============================] - 7s 119us/sample - loss: 0.0876 - acc: 0.2895 - val_loss: 0.0868 - val_acc: 0.3447\n",
            "Epoch 18/100\n",
            "60000/60000 [==============================] - 7s 112us/sample - loss: 0.0873 - acc: 0.2971 - val_loss: 0.0865 - val_acc: 0.3498\n",
            "Epoch 19/100\n",
            "60000/60000 [==============================] - 7s 110us/sample - loss: 0.0871 - acc: 0.3038 - val_loss: 0.0862 - val_acc: 0.3575\n",
            "Epoch 20/100\n",
            "60000/60000 [==============================] - 7s 110us/sample - loss: 0.0868 - acc: 0.3069 - val_loss: 0.0858 - val_acc: 0.3647\n",
            "Epoch 21/100\n",
            "60000/60000 [==============================] - 7s 111us/sample - loss: 0.0865 - acc: 0.3119 - val_loss: 0.0854 - val_acc: 0.3681\n",
            "Epoch 22/100\n",
            "60000/60000 [==============================] - 7s 109us/sample - loss: 0.0862 - acc: 0.3173 - val_loss: 0.0850 - val_acc: 0.3725\n",
            "Epoch 23/100\n",
            "60000/60000 [==============================] - 7s 110us/sample - loss: 0.0858 - acc: 0.3216 - val_loss: 0.0845 - val_acc: 0.3760\n",
            "Epoch 24/100\n",
            "60000/60000 [==============================] - 7s 114us/sample - loss: 0.0854 - acc: 0.3288 - val_loss: 0.0839 - val_acc: 0.3795\n",
            "Epoch 25/100\n",
            "60000/60000 [==============================] - 7s 114us/sample - loss: 0.0850 - acc: 0.3280 - val_loss: 0.0834 - val_acc: 0.3835\n",
            "Epoch 26/100\n",
            "60000/60000 [==============================] - 7s 114us/sample - loss: 0.0845 - acc: 0.3352 - val_loss: 0.0828 - val_acc: 0.3848\n",
            "Epoch 27/100\n",
            "60000/60000 [==============================] - 7s 113us/sample - loss: 0.0840 - acc: 0.3385 - val_loss: 0.0822 - val_acc: 0.3873\n",
            "Epoch 28/100\n",
            "60000/60000 [==============================] - 7s 112us/sample - loss: 0.0834 - acc: 0.3457 - val_loss: 0.0814 - val_acc: 0.3906\n",
            "Epoch 29/100\n",
            "60000/60000 [==============================] - 7s 113us/sample - loss: 0.0828 - acc: 0.3510 - val_loss: 0.0807 - val_acc: 0.3974\n",
            "Epoch 30/100\n",
            "60000/60000 [==============================] - 7s 115us/sample - loss: 0.0821 - acc: 0.3558 - val_loss: 0.0799 - val_acc: 0.3989\n",
            "Epoch 31/100\n",
            "60000/60000 [==============================] - 7s 120us/sample - loss: 0.0815 - acc: 0.3624 - val_loss: 0.0791 - val_acc: 0.4022\n",
            "Epoch 32/100\n",
            "60000/60000 [==============================] - 7s 119us/sample - loss: 0.0808 - acc: 0.3695 - val_loss: 0.0783 - val_acc: 0.4051\n",
            "Epoch 33/100\n",
            "60000/60000 [==============================] - 7s 116us/sample - loss: 0.0800 - acc: 0.3720 - val_loss: 0.0774 - val_acc: 0.4062\n",
            "Epoch 34/100\n",
            "60000/60000 [==============================] - 7s 112us/sample - loss: 0.0792 - acc: 0.3794 - val_loss: 0.0765 - val_acc: 0.4097\n",
            "Epoch 35/100\n",
            "60000/60000 [==============================] - 7s 114us/sample - loss: 0.0785 - acc: 0.3841 - val_loss: 0.0757 - val_acc: 0.4101\n",
            "Epoch 36/100\n",
            "60000/60000 [==============================] - 7s 113us/sample - loss: 0.0776 - acc: 0.3896 - val_loss: 0.0748 - val_acc: 0.4113\n",
            "Epoch 37/100\n",
            "60000/60000 [==============================] - 7s 113us/sample - loss: 0.0768 - acc: 0.3921 - val_loss: 0.0738 - val_acc: 0.4106\n",
            "Epoch 38/100\n",
            "60000/60000 [==============================] - 7s 113us/sample - loss: 0.0760 - acc: 0.3975 - val_loss: 0.0729 - val_acc: 0.4135\n",
            "Epoch 39/100\n",
            "60000/60000 [==============================] - 7s 113us/sample - loss: 0.0752 - acc: 0.3993 - val_loss: 0.0721 - val_acc: 0.4124\n",
            "Epoch 40/100\n",
            "60000/60000 [==============================] - 7s 114us/sample - loss: 0.0743 - acc: 0.4009 - val_loss: 0.0712 - val_acc: 0.4131\n",
            "Epoch 41/100\n",
            "60000/60000 [==============================] - 7s 116us/sample - loss: 0.0735 - acc: 0.4028 - val_loss: 0.0703 - val_acc: 0.4127\n",
            "Epoch 42/100\n",
            "60000/60000 [==============================] - 7s 115us/sample - loss: 0.0727 - acc: 0.4053 - val_loss: 0.0694 - val_acc: 0.4153\n",
            "Epoch 43/100\n",
            "60000/60000 [==============================] - 7s 115us/sample - loss: 0.0719 - acc: 0.4087 - val_loss: 0.0685 - val_acc: 0.4174\n",
            "Epoch 44/100\n",
            "60000/60000 [==============================] - 7s 117us/sample - loss: 0.0710 - acc: 0.4126 - val_loss: 0.0677 - val_acc: 0.4197\n",
            "Epoch 45/100\n",
            "60000/60000 [==============================] - 7s 116us/sample - loss: 0.0703 - acc: 0.4166 - val_loss: 0.0669 - val_acc: 0.4278\n",
            "Epoch 46/100\n",
            "60000/60000 [==============================] - 7s 115us/sample - loss: 0.0695 - acc: 0.4208 - val_loss: 0.0661 - val_acc: 0.4345\n",
            "Epoch 47/100\n",
            "60000/60000 [==============================] - 7s 117us/sample - loss: 0.0687 - acc: 0.4261 - val_loss: 0.0653 - val_acc: 0.4412\n",
            "Epoch 48/100\n",
            "60000/60000 [==============================] - 7s 116us/sample - loss: 0.0680 - acc: 0.4314 - val_loss: 0.0646 - val_acc: 0.4467\n",
            "Epoch 49/100\n",
            "60000/60000 [==============================] - 7s 117us/sample - loss: 0.0674 - acc: 0.4391 - val_loss: 0.0639 - val_acc: 0.4588\n",
            "Epoch 50/100\n",
            "60000/60000 [==============================] - 7s 115us/sample - loss: 0.0666 - acc: 0.4483 - val_loss: 0.0631 - val_acc: 0.4706\n",
            "Epoch 51/100\n",
            "60000/60000 [==============================] - 7s 114us/sample - loss: 0.0659 - acc: 0.4551 - val_loss: 0.0624 - val_acc: 0.4845\n",
            "Epoch 52/100\n",
            "60000/60000 [==============================] - 7s 115us/sample - loss: 0.0653 - acc: 0.4642 - val_loss: 0.0617 - val_acc: 0.4943\n",
            "Epoch 53/100\n",
            "60000/60000 [==============================] - 7s 115us/sample - loss: 0.0646 - acc: 0.4749 - val_loss: 0.0610 - val_acc: 0.5065\n",
            "Epoch 54/100\n",
            "60000/60000 [==============================] - 7s 117us/sample - loss: 0.0639 - acc: 0.4849 - val_loss: 0.0603 - val_acc: 0.5161\n",
            "Epoch 55/100\n",
            "60000/60000 [==============================] - 7s 117us/sample - loss: 0.0633 - acc: 0.4972 - val_loss: 0.0596 - val_acc: 0.5315\n",
            "Epoch 56/100\n",
            "60000/60000 [==============================] - 7s 116us/sample - loss: 0.0627 - acc: 0.5075 - val_loss: 0.0589 - val_acc: 0.5451\n",
            "Epoch 57/100\n",
            "60000/60000 [==============================] - 7s 115us/sample - loss: 0.0621 - acc: 0.5179 - val_loss: 0.0583 - val_acc: 0.5625\n",
            "Epoch 58/100\n",
            "60000/60000 [==============================] - 7s 117us/sample - loss: 0.0615 - acc: 0.5300 - val_loss: 0.0575 - val_acc: 0.5773\n",
            "Epoch 59/100\n",
            "60000/60000 [==============================] - 7s 116us/sample - loss: 0.0608 - acc: 0.5430 - val_loss: 0.0568 - val_acc: 0.5860\n",
            "Epoch 60/100\n",
            "60000/60000 [==============================] - 7s 117us/sample - loss: 0.0601 - acc: 0.5528 - val_loss: 0.0562 - val_acc: 0.5949\n",
            "Epoch 61/100\n",
            "60000/60000 [==============================] - 7s 118us/sample - loss: 0.0595 - acc: 0.5621 - val_loss: 0.0555 - val_acc: 0.6067\n",
            "Epoch 62/100\n",
            "60000/60000 [==============================] - 7s 118us/sample - loss: 0.0589 - acc: 0.5736 - val_loss: 0.0548 - val_acc: 0.6197\n",
            "Epoch 63/100\n",
            "60000/60000 [==============================] - 7s 116us/sample - loss: 0.0582 - acc: 0.5831 - val_loss: 0.0541 - val_acc: 0.6263\n",
            "Epoch 64/100\n",
            "60000/60000 [==============================] - 7s 117us/sample - loss: 0.0577 - acc: 0.5914 - val_loss: 0.0536 - val_acc: 0.6352\n",
            "Epoch 65/100\n",
            "60000/60000 [==============================] - 7s 116us/sample - loss: 0.0571 - acc: 0.5997 - val_loss: 0.0528 - val_acc: 0.6457\n",
            "Epoch 66/100\n",
            "60000/60000 [==============================] - 7s 117us/sample - loss: 0.0564 - acc: 0.6076 - val_loss: 0.0522 - val_acc: 0.6546\n",
            "Epoch 67/100\n",
            "60000/60000 [==============================] - 7s 120us/sample - loss: 0.0558 - acc: 0.6125 - val_loss: 0.0516 - val_acc: 0.6629\n",
            "Epoch 68/100\n",
            "60000/60000 [==============================] - 7s 118us/sample - loss: 0.0553 - acc: 0.6204 - val_loss: 0.0508 - val_acc: 0.6729\n",
            "Epoch 69/100\n",
            "60000/60000 [==============================] - 7s 118us/sample - loss: 0.0546 - acc: 0.6284 - val_loss: 0.0503 - val_acc: 0.6792\n",
            "Epoch 70/100\n",
            "60000/60000 [==============================] - 7s 117us/sample - loss: 0.0540 - acc: 0.6342 - val_loss: 0.0497 - val_acc: 0.6841\n",
            "Epoch 71/100\n",
            "60000/60000 [==============================] - 7s 117us/sample - loss: 0.0534 - acc: 0.6400 - val_loss: 0.0491 - val_acc: 0.6890\n",
            "Epoch 72/100\n",
            "60000/60000 [==============================] - 7s 118us/sample - loss: 0.0528 - acc: 0.6462 - val_loss: 0.0484 - val_acc: 0.6981\n",
            "Epoch 73/100\n",
            "60000/60000 [==============================] - 7s 117us/sample - loss: 0.0523 - acc: 0.6497 - val_loss: 0.0480 - val_acc: 0.7019\n",
            "Epoch 74/100\n",
            "60000/60000 [==============================] - 7s 117us/sample - loss: 0.0518 - acc: 0.6531 - val_loss: 0.0473 - val_acc: 0.7092\n",
            "Epoch 75/100\n",
            "60000/60000 [==============================] - 7s 124us/sample - loss: 0.0513 - acc: 0.6600 - val_loss: 0.0467 - val_acc: 0.7173\n",
            "Epoch 76/100\n",
            "60000/60000 [==============================] - 7s 124us/sample - loss: 0.0507 - acc: 0.6655 - val_loss: 0.0462 - val_acc: 0.7208\n",
            "Epoch 77/100\n",
            "60000/60000 [==============================] - 7s 121us/sample - loss: 0.0502 - acc: 0.6708 - val_loss: 0.0457 - val_acc: 0.7278\n",
            "Epoch 78/100\n",
            "60000/60000 [==============================] - 7s 118us/sample - loss: 0.0498 - acc: 0.6742 - val_loss: 0.0451 - val_acc: 0.7327\n",
            "Epoch 79/100\n",
            "60000/60000 [==============================] - 7s 118us/sample - loss: 0.0492 - acc: 0.6792 - val_loss: 0.0445 - val_acc: 0.7367\n",
            "Epoch 80/100\n",
            "60000/60000 [==============================] - 7s 119us/sample - loss: 0.0486 - acc: 0.6857 - val_loss: 0.0439 - val_acc: 0.7401\n",
            "Epoch 81/100\n",
            "60000/60000 [==============================] - 7s 118us/sample - loss: 0.0482 - acc: 0.6894 - val_loss: 0.0434 - val_acc: 0.7436\n",
            "Epoch 82/100\n",
            "60000/60000 [==============================] - 7s 118us/sample - loss: 0.0476 - acc: 0.6965 - val_loss: 0.0428 - val_acc: 0.7487\n",
            "Epoch 83/100\n",
            "60000/60000 [==============================] - 7s 119us/sample - loss: 0.0471 - acc: 0.6975 - val_loss: 0.0422 - val_acc: 0.7556\n",
            "Epoch 84/100\n",
            "60000/60000 [==============================] - 7s 117us/sample - loss: 0.0466 - acc: 0.7044 - val_loss: 0.0417 - val_acc: 0.7596\n",
            "Epoch 85/100\n",
            "60000/60000 [==============================] - 7s 118us/sample - loss: 0.0462 - acc: 0.7084 - val_loss: 0.0411 - val_acc: 0.7643\n",
            "Epoch 86/100\n",
            "60000/60000 [==============================] - 7s 118us/sample - loss: 0.0457 - acc: 0.7100 - val_loss: 0.0405 - val_acc: 0.7678\n",
            "Epoch 87/100\n",
            "60000/60000 [==============================] - 7s 119us/sample - loss: 0.0451 - acc: 0.7142 - val_loss: 0.0399 - val_acc: 0.7717\n",
            "Epoch 88/100\n",
            "60000/60000 [==============================] - 7s 119us/sample - loss: 0.0446 - acc: 0.7214 - val_loss: 0.0393 - val_acc: 0.7737\n",
            "Epoch 89/100\n",
            "60000/60000 [==============================] - 7s 119us/sample - loss: 0.0440 - acc: 0.7246 - val_loss: 0.0387 - val_acc: 0.7785\n",
            "Epoch 90/100\n",
            "60000/60000 [==============================] - 7s 119us/sample - loss: 0.0435 - acc: 0.7293 - val_loss: 0.0381 - val_acc: 0.7811\n",
            "Epoch 91/100\n",
            "60000/60000 [==============================] - 7s 118us/sample - loss: 0.0430 - acc: 0.7306 - val_loss: 0.0374 - val_acc: 0.7879\n",
            "Epoch 92/100\n",
            "60000/60000 [==============================] - 7s 117us/sample - loss: 0.0423 - acc: 0.7373 - val_loss: 0.0368 - val_acc: 0.7916\n",
            "Epoch 93/100\n",
            "60000/60000 [==============================] - 7s 118us/sample - loss: 0.0418 - acc: 0.7401 - val_loss: 0.0361 - val_acc: 0.7955\n",
            "Epoch 94/100\n",
            "60000/60000 [==============================] - 7s 118us/sample - loss: 0.0412 - acc: 0.7443 - val_loss: 0.0355 - val_acc: 0.7990\n",
            "Epoch 95/100\n",
            "60000/60000 [==============================] - 7s 119us/sample - loss: 0.0407 - acc: 0.7474 - val_loss: 0.0349 - val_acc: 0.8024\n",
            "Epoch 96/100\n",
            "60000/60000 [==============================] - 7s 118us/sample - loss: 0.0401 - acc: 0.7522 - val_loss: 0.0342 - val_acc: 0.8044\n",
            "Epoch 97/100\n",
            "60000/60000 [==============================] - 7s 119us/sample - loss: 0.0396 - acc: 0.7545 - val_loss: 0.0336 - val_acc: 0.8085\n",
            "Epoch 98/100\n",
            "60000/60000 [==============================] - 7s 118us/sample - loss: 0.0390 - acc: 0.7581 - val_loss: 0.0330 - val_acc: 0.8112\n",
            "Epoch 99/100\n",
            "60000/60000 [==============================] - 7s 118us/sample - loss: 0.0385 - acc: 0.7614 - val_loss: 0.0324 - val_acc: 0.8154\n",
            "Epoch 100/100\n",
            "60000/60000 [==============================] - 7s 118us/sample - loss: 0.0380 - acc: 0.7651 - val_loss: 0.0318 - val_acc: 0.8178\n"
          ],
          "name": "stdout"
        },
        {
          "output_type": "execute_result",
          "data": {
            "text/plain": [
              "<tensorflow.python.keras.callbacks.History at 0x7f04ee0f5b00>"
            ]
          },
          "metadata": {
            "tags": []
          },
          "execution_count": 12
        }
      ]
    },
    {
      "cell_type": "code",
      "metadata": {
        "id": "whrWEfqJZ2Un",
        "colab_type": "code",
        "colab": {}
      },
      "source": [
        ""
      ],
      "execution_count": 0,
      "outputs": []
    }
  ]
}