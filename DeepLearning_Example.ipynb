{
 "cells": [
  {
   "cell_type": "code",
   "execution_count": 1,
   "metadata": {},
   "outputs": [],
   "source": [
    "import numpy as np\n",
    "import pandas as pd\n",
    "from sklearn import preprocessing"
   ]
  },
  {
   "cell_type": "code",
   "execution_count": 2,
   "metadata": {},
   "outputs": [],
   "source": [
    "file=pd.read_csv('original.csv',header=None)"
   ]
  },
  {
   "cell_type": "markdown",
   "metadata": {},
   "source": [
    "## Converting the file into numpy array"
   ]
  },
  {
   "cell_type": "code",
   "execution_count": 2,
   "metadata": {},
   "outputs": [],
   "source": [
    "file=pd.read_csv('original.csv',header=None)"
   ]
  },
  {
   "cell_type": "code",
   "execution_count": 3,
   "metadata": {},
   "outputs": [],
   "source": [
    "np_file=np.array(file)"
   ]
  },
  {
   "cell_type": "markdown",
   "metadata": {},
   "source": [
    "## Preprocessing the Dataset\n",
    ">  1. Balancing\n",
    ">  2. Normalizing\n",
    ">  3. Shiffling\n"
   ]
  },
  {
   "cell_type": "code",
   "execution_count": 4,
   "metadata": {},
   "outputs": [
    {
     "name": "stdout",
     "output_type": "stream",
     "text": [
      "There are 2237 positive cases and 11847 negative cases\n"
     ]
    }
   ],
   "source": [
    "#Finding the number of positive cases\n",
    "\n",
    "positive=np.sum(np_file[:,11]).astype('int32')\n",
    "negative=np_file.shape[0]-positive\n",
    "print('There are {} positive cases and {} negative cases'.format(positive,negative))\n",
    "#Clearly the dataset is biased with more negative responses"
   ]
  },
  {
   "cell_type": "code",
   "execution_count": 5,
   "metadata": {
    "scrolled": false
   },
   "outputs": [],
   "source": [
    "count=0\n",
    "excess=[]\n",
    "for i in range(np_file.shape[0]):\n",
    "    if np_file[i,11]==0:\n",
    "        count+=1\n",
    "        if count>positive:\n",
    "            excess.append(i)\n",
    "balanced=np.delete(np_file,excess,axis=0)"
   ]
  },
  {
   "cell_type": "code",
   "execution_count": 6,
   "metadata": {},
   "outputs": [
    {
     "data": {
      "text/plain": [
       "(4474, 12)"
      ]
     },
     "execution_count": 6,
     "metadata": {},
     "output_type": "execute_result"
    }
   ],
   "source": [
    "balanced.shape"
   ]
  },
  {
   "cell_type": "code",
   "execution_count": 7,
   "metadata": {},
   "outputs": [
    {
     "name": "stdout",
     "output_type": "stream",
     "text": [
      "There are 2237 positive cases and 2237 negative cases\n"
     ]
    }
   ],
   "source": [
    "#Finding the number of positive cases\n",
    "\n",
    "positive=np.sum(balanced[:,11]).astype('int32')\n",
    "negative=balanced.shape[0]-positive\n",
    "print('There are {} positive cases and {} negative cases'.format(positive,negative))\n",
    "#Clearly the dataset is biased with more negative responses"
   ]
  },
  {
   "cell_type": "markdown",
   "metadata": {},
   "source": [
    "## Now the dataset is balanced and now is ready for balancing, shuffling and splitting\n"
   ]
  },
  {
   "cell_type": "markdown",
   "metadata": {},
   "source": [
    "## Normalizing"
   ]
  },
  {
   "cell_type": "code",
   "execution_count": 8,
   "metadata": {},
   "outputs": [],
   "source": [
    "normalized=preprocessing.scale(balanced[:,0:11])"
   ]
  },
  {
   "cell_type": "markdown",
   "metadata": {},
   "source": [
    "## Applying the shuffling\n"
   ]
  },
  {
   "cell_type": "code",
   "execution_count": 15,
   "metadata": {},
   "outputs": [],
   "source": [
    "shuffled_index=np.arange(balanced.shape[0])"
   ]
  },
  {
   "cell_type": "code",
   "execution_count": 16,
   "metadata": {},
   "outputs": [],
   "source": [
    "np.random.shuffle(shuffled_index)"
   ]
  },
  {
   "cell_type": "code",
   "execution_count": 73,
   "metadata": {},
   "outputs": [],
   "source": [
    "balanced=balanced[shuffled_index]\n",
    "normalized=normalized[shuffled_index]"
   ]
  },
  {
   "cell_type": "markdown",
   "metadata": {},
   "source": [
    "## Splitting the database "
   ]
  },
  {
   "cell_type": "code",
   "execution_count": 74,
   "metadata": {},
   "outputs": [
    {
     "name": "stdout",
     "output_type": "stream",
     "text": [
      "\n"
     ]
    }
   ],
   "source": [
    "# Count the total number of samples\n",
    "samples_count = shuffled_index.shape[0]\n",
    "\n",
    "\n",
    "train_samples_count = int(0.8 * samples_count)\n",
    "validation_samples_count = int(0.1 * samples_count)\n",
    "\n",
    "test_samples_count = samples_count - train_samples_count - validation_samples_count\n",
    "\n",
    "\n",
    "\n",
    "train_input=normalized[0:train_samples_count,]\n",
    "train_output=balanced[0:train_samples_count,11]\n",
    "\n",
    "test_input=normalized[train_samples_count:train_samples_count+validation_samples_count,]\n",
    "test_output=balanced[train_samples_count:train_samples_count+validation_samples_count,11]\n",
    "\n",
    "validation_input=normalized[train_samples_count+validation_samples_count:,]\n",
    "validation_output=balanced[train_samples_count+validation_samples_count:,11]\n",
    "\n",
    "\n",
    "print()\n"
   ]
  },
  {
   "cell_type": "markdown",
   "metadata": {},
   "source": [
    "## Saving the data as .npz file\n"
   ]
  },
  {
   "cell_type": "code",
   "execution_count": 75,
   "metadata": {},
   "outputs": [],
   "source": [
    "# Save the three datasets in *.npz.\n",
    "# In the next lesson, you will see that it is extremely valuable to name them in such a coherent way!\n",
    "\n",
    "np.savez('Audiobooks_data_train', inputs=train_input, targets=train_output)\n",
    "np.savez('Audiobooks_data_validation', inputs=validation_input, targets=validation_output)\n",
    "np.savez('Audiobooks_data_test', inputs=test_input, targets=test_output)"
   ]
  },
  {
   "cell_type": "markdown",
   "metadata": {},
   "source": [
    "## Opening the .npz files"
   ]
  },
  {
   "cell_type": "code",
   "execution_count": 76,
   "metadata": {},
   "outputs": [],
   "source": [
    "import tensorflow as tf\n"
   ]
  },
  {
   "cell_type": "code",
   "execution_count": 77,
   "metadata": {},
   "outputs": [],
   "source": [
    "npz = np.load('Audiobooks_data_train.npz')\n",
    "\n",
    "# we extract the inputs using the keyword under which we saved them\n",
    "\n",
    "train_inputs = npz['inputs'].astype(np.float)\n",
    "\n",
    "# targets must be int because of sparse_categorical_crossentropy (we want to be able to smoothly one-hot encode them)\n",
    "train_targets = npz['targets'].astype(np.int)\n",
    "\n",
    "npz = np.load('Audiobooks_data_validation.npz')\n",
    "\n",
    "validation_inputs, validation_targets = npz['inputs'].astype(np.float), npz['targets'].astype(np.int)\n",
    "\n",
    "npz = np.load('Audiobooks_data_test.npz')\n",
    "\n",
    "test_inputs, test_targets = npz['inputs'].astype(np.float), npz['targets'].astype(np.int)"
   ]
  },
  {
   "cell_type": "markdown",
   "metadata": {},
   "source": [
    "## Creating a model\n"
   ]
  },
  {
   "cell_type": "code",
   "execution_count": 78,
   "metadata": {
    "scrolled": true
   },
   "outputs": [
    {
     "name": "stdout",
     "output_type": "stream",
     "text": [
      "Train on 3579 samples\n",
      "Epoch 1/100\n",
      " 100/3579 [..............................] - ETA: 5s - loss: 0.6424 - accuracy: 0.5900WARNING:tensorflow:Early stopping conditioned on metric `val_loss` which is not available. Available metrics are: loss,accuracy\n",
      "3579/3579 [==============================] - 0s 55us/sample - loss: 0.5559 - accuracy: 0.7019\n",
      "Epoch 2/100\n",
      " 100/3579 [..............................] - ETA: 0s - loss: 0.5189 - accuracy: 0.7000WARNING:tensorflow:Early stopping conditioned on metric `val_loss` which is not available. Available metrics are: loss,accuracy\n",
      "3579/3579 [==============================] - 0s 12us/sample - loss: 0.4524 - accuracy: 0.7631\n",
      "Epoch 3/100\n",
      " 100/3579 [..............................] - ETA: 0s - loss: 0.4437 - accuracy: 0.8000WARNING:tensorflow:Early stopping conditioned on metric `val_loss` which is not available. Available metrics are: loss,accuracy\n",
      "3579/3579 [==============================] - 0s 10us/sample - loss: 0.4067 - accuracy: 0.7904\n",
      "Epoch 4/100\n",
      " 100/3579 [..............................] - ETA: 0s - loss: 0.4131 - accuracy: 0.7900WARNING:tensorflow:Early stopping conditioned on metric `val_loss` which is not available. Available metrics are: loss,accuracy\n",
      "3579/3579 [==============================] - 0s 11us/sample - loss: 0.3807 - accuracy: 0.8050\n",
      "Epoch 5/100\n",
      " 100/3579 [..............................] - ETA: 0s - loss: 0.3771 - accuracy: 0.7800WARNING:tensorflow:Early stopping conditioned on metric `val_loss` which is not available. Available metrics are: loss,accuracy\n",
      "3579/3579 [==============================] - 0s 10us/sample - loss: 0.3676 - accuracy: 0.7944\n",
      "Epoch 6/100\n",
      " 100/3579 [..............................] - ETA: 0s - loss: 0.3350 - accuracy: 0.7900WARNING:tensorflow:Early stopping conditioned on metric `val_loss` which is not available. Available metrics are: loss,accuracy\n",
      "3579/3579 [==============================] - 0s 10us/sample - loss: 0.3595 - accuracy: 0.8039\n",
      "Epoch 7/100\n",
      " 100/3579 [..............................] - ETA: 0s - loss: 0.4102 - accuracy: 0.7700WARNING:tensorflow:Early stopping conditioned on metric `val_loss` which is not available. Available metrics are: loss,accuracy\n",
      "3579/3579 [==============================] - 0s 11us/sample - loss: 0.3515 - accuracy: 0.8039\n",
      "Epoch 8/100\n",
      " 100/3579 [..............................] - ETA: 0s - loss: 0.3392 - accuracy: 0.8200WARNING:tensorflow:Early stopping conditioned on metric `val_loss` which is not available. Available metrics are: loss,accuracy\n",
      "3579/3579 [==============================] - 0s 10us/sample - loss: 0.3456 - accuracy: 0.8159\n",
      "Epoch 9/100\n",
      " 100/3579 [..............................] - ETA: 0s - loss: 0.3640 - accuracy: 0.7700WARNING:tensorflow:Early stopping conditioned on metric `val_loss` which is not available. Available metrics are: loss,accuracy\n",
      "3579/3579 [==============================] - 0s 10us/sample - loss: 0.3429 - accuracy: 0.8150\n",
      "Epoch 10/100\n",
      " 100/3579 [..............................] - ETA: 0s - loss: 0.3006 - accuracy: 0.8600WARNING:tensorflow:Early stopping conditioned on metric `val_loss` which is not available. Available metrics are: loss,accuracy\n",
      "3579/3579 [==============================] - 0s 10us/sample - loss: 0.3401 - accuracy: 0.8148\n",
      "Epoch 11/100\n",
      " 100/3579 [..............................] - ETA: 0s - loss: 0.3057 - accuracy: 0.8700WARNING:tensorflow:Early stopping conditioned on metric `val_loss` which is not available. Available metrics are: loss,accuracy\n",
      "3579/3579 [==============================] - 0s 10us/sample - loss: 0.3363 - accuracy: 0.8181\n",
      "Epoch 12/100\n",
      " 100/3579 [..............................] - ETA: 0s - loss: 0.3413 - accuracy: 0.8400WARNING:tensorflow:Early stopping conditioned on metric `val_loss` which is not available. Available metrics are: loss,accuracy\n",
      "3579/3579 [==============================] - 0s 10us/sample - loss: 0.3316 - accuracy: 0.8203\n",
      "Epoch 13/100\n",
      " 100/3579 [..............................] - ETA: 0s - loss: 0.3794 - accuracy: 0.7900WARNING:tensorflow:Early stopping conditioned on metric `val_loss` which is not available. Available metrics are: loss,accuracy\n",
      "3579/3579 [==============================] - 0s 9us/sample - loss: 0.3311 - accuracy: 0.8206\n",
      "Epoch 14/100\n",
      " 100/3579 [..............................] - ETA: 0s - loss: 0.3234 - accuracy: 0.8100WARNING:tensorflow:Early stopping conditioned on metric `val_loss` which is not available. Available metrics are: loss,accuracy\n",
      "3579/3579 [==============================] - 0s 10us/sample - loss: 0.3292 - accuracy: 0.8181\n",
      "Epoch 15/100\n",
      " 100/3579 [..............................] - ETA: 0s - loss: 0.3241 - accuracy: 0.8300WARNING:tensorflow:Early stopping conditioned on metric `val_loss` which is not available. Available metrics are: loss,accuracy\n",
      "3579/3579 [==============================] - 0s 9us/sample - loss: 0.3300 - accuracy: 0.8231\n",
      "Epoch 16/100\n",
      " 100/3579 [..............................] - ETA: 0s - loss: 0.3097 - accuracy: 0.8800WARNING:tensorflow:Early stopping conditioned on metric `val_loss` which is not available. Available metrics are: loss,accuracy\n",
      "3579/3579 [==============================] - 0s 9us/sample - loss: 0.3263 - accuracy: 0.8215\n",
      "Epoch 17/100\n",
      " 100/3579 [..............................] - ETA: 0s - loss: 0.3189 - accuracy: 0.8100WARNING:tensorflow:Early stopping conditioned on metric `val_loss` which is not available. Available metrics are: loss,accuracy\n",
      "3579/3579 [==============================] - 0s 10us/sample - loss: 0.3271 - accuracy: 0.8201\n",
      "Epoch 18/100\n",
      " 100/3579 [..............................] - ETA: 0s - loss: 0.3500 - accuracy: 0.8600WARNING:tensorflow:Early stopping conditioned on metric `val_loss` which is not available. Available metrics are: loss,accuracy\n",
      "3579/3579 [==============================] - 0s 10us/sample - loss: 0.3255 - accuracy: 0.8212\n",
      "Epoch 19/100\n",
      " 100/3579 [..............................] - ETA: 0s - loss: 0.2992 - accuracy: 0.8300WARNING:tensorflow:Early stopping conditioned on metric `val_loss` which is not available. Available metrics are: loss,accuracy\n",
      "3579/3579 [==============================] - 0s 10us/sample - loss: 0.3205 - accuracy: 0.8343\n",
      "Epoch 20/100\n",
      " 100/3579 [..............................] - ETA: 0s - loss: 0.2634 - accuracy: 0.8300WARNING:tensorflow:Early stopping conditioned on metric `val_loss` which is not available. Available metrics are: loss,accuracy\n",
      "3579/3579 [==============================] - 0s 10us/sample - loss: 0.3191 - accuracy: 0.8298\n",
      "Epoch 21/100\n",
      " 100/3579 [..............................] - ETA: 0s - loss: 0.2721 - accuracy: 0.8600WARNING:tensorflow:Early stopping conditioned on metric `val_loss` which is not available. Available metrics are: loss,accuracy\n",
      "3579/3579 [==============================] - 0s 10us/sample - loss: 0.3191 - accuracy: 0.8243\n",
      "Epoch 22/100\n",
      " 100/3579 [..............................] - ETA: 0s - loss: 0.2578 - accuracy: 0.8800WARNING:tensorflow:Early stopping conditioned on metric `val_loss` which is not available. Available metrics are: loss,accuracy\n",
      "3579/3579 [==============================] - 0s 10us/sample - loss: 0.3166 - accuracy: 0.8296\n",
      "Epoch 23/100\n",
      " 100/3579 [..............................] - ETA: 0s - loss: 0.3043 - accuracy: 0.8200WARNING:tensorflow:Early stopping conditioned on metric `val_loss` which is not available. Available metrics are: loss,accuracy\n",
      "3579/3579 [==============================] - 0s 10us/sample - loss: 0.3205 - accuracy: 0.8243\n",
      "Epoch 24/100\n",
      " 100/3579 [..............................] - ETA: 0s - loss: 0.3353 - accuracy: 0.8000WARNING:tensorflow:Early stopping conditioned on metric `val_loss` which is not available. Available metrics are: loss,accuracy\n",
      "3579/3579 [==============================] - 0s 10us/sample - loss: 0.3194 - accuracy: 0.8234\n",
      "Epoch 25/100\n",
      " 100/3579 [..............................] - ETA: 0s - loss: 0.2791 - accuracy: 0.8900WARNING:tensorflow:Early stopping conditioned on metric `val_loss` which is not available. Available metrics are: loss,accuracy\n",
      "3579/3579 [==============================] - 0s 11us/sample - loss: 0.3135 - accuracy: 0.8315\n",
      "Epoch 26/100\n",
      " 100/3579 [..............................] - ETA: 0s - loss: 0.2877 - accuracy: 0.8500WARNING:tensorflow:Early stopping conditioned on metric `val_loss` which is not available. Available metrics are: loss,accuracy\n"
     ]
    },
    {
     "name": "stdout",
     "output_type": "stream",
     "text": [
      "3579/3579 [==============================] - 0s 10us/sample - loss: 0.3153 - accuracy: 0.8240\n",
      "Epoch 27/100\n",
      " 100/3579 [..............................] - ETA: 0s - loss: 0.3115 - accuracy: 0.8500WARNING:tensorflow:Early stopping conditioned on metric `val_loss` which is not available. Available metrics are: loss,accuracy\n",
      "3579/3579 [==============================] - 0s 10us/sample - loss: 0.3129 - accuracy: 0.8360\n",
      "Epoch 28/100\n",
      " 100/3579 [..............................] - ETA: 0s - loss: 0.2685 - accuracy: 0.8400WARNING:tensorflow:Early stopping conditioned on metric `val_loss` which is not available. Available metrics are: loss,accuracy\n",
      "3579/3579 [==============================] - 0s 9us/sample - loss: 0.3175 - accuracy: 0.8282\n",
      "Epoch 29/100\n",
      " 100/3579 [..............................] - ETA: 0s - loss: 0.2693 - accuracy: 0.8500WARNING:tensorflow:Early stopping conditioned on metric `val_loss` which is not available. Available metrics are: loss,accuracy\n",
      "3579/3579 [==============================] - 0s 10us/sample - loss: 0.3109 - accuracy: 0.8265\n",
      "Epoch 30/100\n",
      " 100/3579 [..............................] - ETA: 0s - loss: 0.3195 - accuracy: 0.8300WARNING:tensorflow:Early stopping conditioned on metric `val_loss` which is not available. Available metrics are: loss,accuracy\n",
      "3579/3579 [==============================] - 0s 10us/sample - loss: 0.3136 - accuracy: 0.8296\n",
      "Epoch 31/100\n",
      " 100/3579 [..............................] - ETA: 0s - loss: 0.3349 - accuracy: 0.8600WARNING:tensorflow:Early stopping conditioned on metric `val_loss` which is not available. Available metrics are: loss,accuracy\n",
      "3579/3579 [==============================] - 0s 10us/sample - loss: 0.3085 - accuracy: 0.8310\n",
      "Epoch 32/100\n",
      " 100/3579 [..............................] - ETA: 0s - loss: 0.3880 - accuracy: 0.7700WARNING:tensorflow:Early stopping conditioned on metric `val_loss` which is not available. Available metrics are: loss,accuracy\n",
      "3579/3579 [==============================] - 0s 10us/sample - loss: 0.3113 - accuracy: 0.8326\n",
      "Epoch 33/100\n",
      " 100/3579 [..............................] - ETA: 0s - loss: 0.2720 - accuracy: 0.8200WARNING:tensorflow:Early stopping conditioned on metric `val_loss` which is not available. Available metrics are: loss,accuracy\n",
      "3579/3579 [==============================] - 0s 10us/sample - loss: 0.3085 - accuracy: 0.8379\n",
      "Epoch 34/100\n",
      " 100/3579 [..............................] - ETA: 0s - loss: 0.3002 - accuracy: 0.8700WARNING:tensorflow:Early stopping conditioned on metric `val_loss` which is not available. Available metrics are: loss,accuracy\n",
      "3579/3579 [==============================] - 0s 9us/sample - loss: 0.3066 - accuracy: 0.8335\n",
      "Epoch 35/100\n",
      " 100/3579 [..............................] - ETA: 0s - loss: 0.2494 - accuracy: 0.8800WARNING:tensorflow:Early stopping conditioned on metric `val_loss` which is not available. Available metrics are: loss,accuracy\n",
      "3579/3579 [==============================] - 0s 9us/sample - loss: 0.3091 - accuracy: 0.8284\n",
      "Epoch 36/100\n",
      " 100/3579 [..............................] - ETA: 0s - loss: 0.3411 - accuracy: 0.8200WARNING:tensorflow:Early stopping conditioned on metric `val_loss` which is not available. Available metrics are: loss,accuracy\n",
      "3579/3579 [==============================] - 0s 10us/sample - loss: 0.3084 - accuracy: 0.8354\n",
      "Epoch 37/100\n",
      " 100/3579 [..............................] - ETA: 0s - loss: 0.2999 - accuracy: 0.8600WARNING:tensorflow:Early stopping conditioned on metric `val_loss` which is not available. Available metrics are: loss,accuracy\n",
      "3579/3579 [==============================] - 0s 9us/sample - loss: 0.3058 - accuracy: 0.8318\n",
      "Epoch 38/100\n",
      " 100/3579 [..............................] - ETA: 0s - loss: 0.3009 - accuracy: 0.8900WARNING:tensorflow:Early stopping conditioned on metric `val_loss` which is not available. Available metrics are: loss,accuracy\n",
      "3579/3579 [==============================] - 0s 9us/sample - loss: 0.3112 - accuracy: 0.8276\n",
      "Epoch 39/100\n",
      " 100/3579 [..............................] - ETA: 0s - loss: 0.3043 - accuracy: 0.8800WARNING:tensorflow:Early stopping conditioned on metric `val_loss` which is not available. Available metrics are: loss,accuracy\n",
      "3579/3579 [==============================] - 0s 10us/sample - loss: 0.3077 - accuracy: 0.8338\n",
      "Epoch 40/100\n",
      " 100/3579 [..............................] - ETA: 0s - loss: 0.2767 - accuracy: 0.8700WARNING:tensorflow:Early stopping conditioned on metric `val_loss` which is not available. Available metrics are: loss,accuracy\n",
      "3579/3579 [==============================] - 0s 10us/sample - loss: 0.3062 - accuracy: 0.8338\n",
      "Epoch 41/100\n",
      " 100/3579 [..............................] - ETA: 0s - loss: 0.3068 - accuracy: 0.8200WARNING:tensorflow:Early stopping conditioned on metric `val_loss` which is not available. Available metrics are: loss,accuracy\n",
      "3579/3579 [==============================] - 0s 10us/sample - loss: 0.3043 - accuracy: 0.8360\n",
      "Epoch 42/100\n",
      " 100/3579 [..............................] - ETA: 0s - loss: 0.2726 - accuracy: 0.8300WARNING:tensorflow:Early stopping conditioned on metric `val_loss` which is not available. Available metrics are: loss,accuracy\n",
      "3579/3579 [==============================] - 0s 9us/sample - loss: 0.3017 - accuracy: 0.8351\n",
      "Epoch 43/100\n",
      " 100/3579 [..............................] - ETA: 0s - loss: 0.2650 - accuracy: 0.8700WARNING:tensorflow:Early stopping conditioned on metric `val_loss` which is not available. Available metrics are: loss,accuracy\n",
      "3579/3579 [==============================] - 0s 10us/sample - loss: 0.3010 - accuracy: 0.8357\n",
      "Epoch 44/100\n",
      " 100/3579 [..............................] - ETA: 0s - loss: 0.3237 - accuracy: 0.7800WARNING:tensorflow:Early stopping conditioned on metric `val_loss` which is not available. Available metrics are: loss,accuracy\n",
      "3579/3579 [==============================] - 0s 10us/sample - loss: 0.3039 - accuracy: 0.8351\n",
      "Epoch 45/100\n",
      " 100/3579 [..............................] - ETA: 0s - loss: 0.2968 - accuracy: 0.8300WARNING:tensorflow:Early stopping conditioned on metric `val_loss` which is not available. Available metrics are: loss,accuracy\n",
      "3579/3579 [==============================] - 0s 10us/sample - loss: 0.3017 - accuracy: 0.8360\n",
      "Epoch 46/100\n",
      " 100/3579 [..............................] - ETA: 0s - loss: 0.3017 - accuracy: 0.8000WARNING:tensorflow:Early stopping conditioned on metric `val_loss` which is not available. Available metrics are: loss,accuracy\n",
      "3579/3579 [==============================] - 0s 10us/sample - loss: 0.3015 - accuracy: 0.8338\n",
      "Epoch 47/100\n",
      " 100/3579 [..............................] - ETA: 0s - loss: 0.3346 - accuracy: 0.8100WARNING:tensorflow:Early stopping conditioned on metric `val_loss` which is not available. Available metrics are: loss,accuracy\n",
      "3579/3579 [==============================] - 0s 10us/sample - loss: 0.2994 - accuracy: 0.8368\n",
      "Epoch 48/100\n",
      " 100/3579 [..............................] - ETA: 0s - loss: 0.2759 - accuracy: 0.8600WARNING:tensorflow:Early stopping conditioned on metric `val_loss` which is not available. Available metrics are: loss,accuracy\n",
      "3579/3579 [==============================] - 0s 11us/sample - loss: 0.2992 - accuracy: 0.8357\n",
      "Epoch 49/100\n",
      " 100/3579 [..............................] - ETA: 0s - loss: 0.2645 - accuracy: 0.8400WARNING:tensorflow:Early stopping conditioned on metric `val_loss` which is not available. Available metrics are: loss,accuracy\n",
      "3579/3579 [==============================] - 0s 9us/sample - loss: 0.2988 - accuracy: 0.8379\n",
      "Epoch 50/100\n",
      " 100/3579 [..............................] - ETA: 0s - loss: 0.2886 - accuracy: 0.8500WARNING:tensorflow:Early stopping conditioned on metric `val_loss` which is not available. Available metrics are: loss,accuracy\n",
      "3579/3579 [==============================] - 0s 10us/sample - loss: 0.3011 - accuracy: 0.8382\n",
      "Epoch 51/100\n",
      " 100/3579 [..............................] - ETA: 0s - loss: 0.3612 - accuracy: 0.8100WARNING:tensorflow:Early stopping conditioned on metric `val_loss` which is not available. Available metrics are: loss,accuracy\n",
      "3579/3579 [==============================] - 0s 11us/sample - loss: 0.3010 - accuracy: 0.8340\n",
      "Epoch 52/100\n"
     ]
    },
    {
     "name": "stdout",
     "output_type": "stream",
     "text": [
      " 100/3579 [..............................] - ETA: 0s - loss: 0.3879 - accuracy: 0.7900WARNING:tensorflow:Early stopping conditioned on metric `val_loss` which is not available. Available metrics are: loss,accuracy\n",
      "3579/3579 [==============================] - 0s 10us/sample - loss: 0.3014 - accuracy: 0.8340\n",
      "Epoch 53/100\n",
      " 100/3579 [..............................] - ETA: 0s - loss: 0.2538 - accuracy: 0.8500WARNING:tensorflow:Early stopping conditioned on metric `val_loss` which is not available. Available metrics are: loss,accuracy\n",
      "3579/3579 [==============================] - 0s 10us/sample - loss: 0.2962 - accuracy: 0.8374\n",
      "Epoch 54/100\n",
      " 100/3579 [..............................] - ETA: 0s - loss: 0.2753 - accuracy: 0.8900WARNING:tensorflow:Early stopping conditioned on metric `val_loss` which is not available. Available metrics are: loss,accuracy\n",
      "3579/3579 [==============================] - 0s 11us/sample - loss: 0.2995 - accuracy: 0.8354\n",
      "Epoch 55/100\n",
      " 100/3579 [..............................] - ETA: 0s - loss: 0.2140 - accuracy: 0.9100WARNING:tensorflow:Early stopping conditioned on metric `val_loss` which is not available. Available metrics are: loss,accuracy\n",
      "3579/3579 [==============================] - 0s 11us/sample - loss: 0.2969 - accuracy: 0.8391\n",
      "Epoch 56/100\n",
      " 100/3579 [..............................] - ETA: 0s - loss: 0.2511 - accuracy: 0.8700WARNING:tensorflow:Early stopping conditioned on metric `val_loss` which is not available. Available metrics are: loss,accuracy\n",
      "3579/3579 [==============================] - 0s 11us/sample - loss: 0.2973 - accuracy: 0.8402\n",
      "Epoch 57/100\n",
      " 100/3579 [..............................] - ETA: 0s - loss: 0.2036 - accuracy: 0.9000WARNING:tensorflow:Early stopping conditioned on metric `val_loss` which is not available. Available metrics are: loss,accuracy\n",
      "3579/3579 [==============================] - 0s 10us/sample - loss: 0.2969 - accuracy: 0.8416\n",
      "Epoch 58/100\n",
      " 100/3579 [..............................] - ETA: 0s - loss: 0.2956 - accuracy: 0.8400WARNING:tensorflow:Early stopping conditioned on metric `val_loss` which is not available. Available metrics are: loss,accuracy\n",
      "3579/3579 [==============================] - 0s 10us/sample - loss: 0.2955 - accuracy: 0.8427\n",
      "Epoch 59/100\n",
      " 100/3579 [..............................] - ETA: 0s - loss: 0.3616 - accuracy: 0.8400WARNING:tensorflow:Early stopping conditioned on metric `val_loss` which is not available. Available metrics are: loss,accuracy\n",
      "3579/3579 [==============================] - 0s 9us/sample - loss: 0.2966 - accuracy: 0.8430\n",
      "Epoch 60/100\n",
      " 100/3579 [..............................] - ETA: 0s - loss: 0.3003 - accuracy: 0.8300WARNING:tensorflow:Early stopping conditioned on metric `val_loss` which is not available. Available metrics are: loss,accuracy\n",
      "3579/3579 [==============================] - 0s 11us/sample - loss: 0.2950 - accuracy: 0.8402\n",
      "Epoch 61/100\n",
      " 100/3579 [..............................] - ETA: 0s - loss: 0.3894 - accuracy: 0.8000WARNING:tensorflow:Early stopping conditioned on metric `val_loss` which is not available. Available metrics are: loss,accuracy\n",
      "3579/3579 [==============================] - 0s 11us/sample - loss: 0.2958 - accuracy: 0.8424\n",
      "Epoch 62/100\n",
      " 100/3579 [..............................] - ETA: 0s - loss: 0.2848 - accuracy: 0.8300WARNING:tensorflow:Early stopping conditioned on metric `val_loss` which is not available. Available metrics are: loss,accuracy\n",
      "3579/3579 [==============================] - 0s 11us/sample - loss: 0.2948 - accuracy: 0.8388\n",
      "Epoch 63/100\n",
      " 100/3579 [..............................] - ETA: 0s - loss: 0.3692 - accuracy: 0.7800WARNING:tensorflow:Early stopping conditioned on metric `val_loss` which is not available. Available metrics are: loss,accuracy\n",
      "3579/3579 [==============================] - 0s 11us/sample - loss: 0.2969 - accuracy: 0.8405\n",
      "Epoch 64/100\n",
      " 100/3579 [..............................] - ETA: 0s - loss: 0.3010 - accuracy: 0.8700WARNING:tensorflow:Early stopping conditioned on metric `val_loss` which is not available. Available metrics are: loss,accuracy\n",
      "3579/3579 [==============================] - 0s 12us/sample - loss: 0.2993 - accuracy: 0.8329\n",
      "Epoch 65/100\n",
      " 100/3579 [..............................] - ETA: 0s - loss: 0.2788 - accuracy: 0.8500WARNING:tensorflow:Early stopping conditioned on metric `val_loss` which is not available. Available metrics are: loss,accuracy\n",
      "3579/3579 [==============================] - 0s 11us/sample - loss: 0.2919 - accuracy: 0.8421\n",
      "Epoch 66/100\n",
      " 100/3579 [..............................] - ETA: 0s - loss: 0.3483 - accuracy: 0.7600WARNING:tensorflow:Early stopping conditioned on metric `val_loss` which is not available. Available metrics are: loss,accuracy\n",
      "3579/3579 [==============================] - 0s 11us/sample - loss: 0.3007 - accuracy: 0.8324\n",
      "Epoch 67/100\n",
      " 100/3579 [..............................] - ETA: 0s - loss: 0.3516 - accuracy: 0.7900WARNING:tensorflow:Early stopping conditioned on metric `val_loss` which is not available. Available metrics are: loss,accuracy\n",
      "3579/3579 [==============================] - 0s 11us/sample - loss: 0.2936 - accuracy: 0.8402\n",
      "Epoch 68/100\n",
      " 100/3579 [..............................] - ETA: 0s - loss: 0.2734 - accuracy: 0.8500WARNING:tensorflow:Early stopping conditioned on metric `val_loss` which is not available. Available metrics are: loss,accuracy\n",
      "3579/3579 [==============================] - 0s 11us/sample - loss: 0.2937 - accuracy: 0.8419\n",
      "Epoch 69/100\n",
      " 100/3579 [..............................] - ETA: 0s - loss: 0.2973 - accuracy: 0.8400WARNING:tensorflow:Early stopping conditioned on metric `val_loss` which is not available. Available metrics are: loss,accuracy\n",
      "3579/3579 [==============================] - 0s 11us/sample - loss: 0.2974 - accuracy: 0.8449\n",
      "Epoch 70/100\n",
      " 100/3579 [..............................] - ETA: 0s - loss: 0.2524 - accuracy: 0.8900WARNING:tensorflow:Early stopping conditioned on metric `val_loss` which is not available. Available metrics are: loss,accuracy\n",
      "3579/3579 [==============================] - 0s 10us/sample - loss: 0.2983 - accuracy: 0.8374\n",
      "Epoch 71/100\n",
      " 100/3579 [..............................] - ETA: 0s - loss: 0.2964 - accuracy: 0.8100WARNING:tensorflow:Early stopping conditioned on metric `val_loss` which is not available. Available metrics are: loss,accuracy\n",
      "3579/3579 [==============================] - 0s 11us/sample - loss: 0.2951 - accuracy: 0.8351\n",
      "Epoch 72/100\n",
      " 100/3579 [..............................] - ETA: 0s - loss: 0.3154 - accuracy: 0.8400WARNING:tensorflow:Early stopping conditioned on metric `val_loss` which is not available. Available metrics are: loss,accuracy\n",
      "3579/3579 [==============================] - 0s 10us/sample - loss: 0.2958 - accuracy: 0.8433\n",
      "Epoch 73/100\n",
      " 100/3579 [..............................] - ETA: 0s - loss: 0.3195 - accuracy: 0.8300WARNING:tensorflow:Early stopping conditioned on metric `val_loss` which is not available. Available metrics are: loss,accuracy\n",
      "3579/3579 [==============================] - 0s 10us/sample - loss: 0.2931 - accuracy: 0.8416\n",
      "Epoch 74/100\n",
      " 100/3579 [..............................] - ETA: 0s - loss: 0.2997 - accuracy: 0.8300WARNING:tensorflow:Early stopping conditioned on metric `val_loss` which is not available. Available metrics are: loss,accuracy\n",
      "3579/3579 [==============================] - 0s 10us/sample - loss: 0.2919 - accuracy: 0.8405\n",
      "Epoch 75/100\n",
      " 100/3579 [..............................] - ETA: 0s - loss: 0.3103 - accuracy: 0.7900WARNING:tensorflow:Early stopping conditioned on metric `val_loss` which is not available. Available metrics are: loss,accuracy\n",
      "3579/3579 [==============================] - 0s 9us/sample - loss: 0.2943 - accuracy: 0.8368\n",
      "Epoch 76/100\n",
      " 100/3579 [..............................] - ETA: 0s - loss: 0.2911 - accuracy: 0.8500WARNING:tensorflow:Early stopping conditioned on metric `val_loss` which is not available. Available metrics are: loss,accuracy\n",
      "3579/3579 [==============================] - 0s 10us/sample - loss: 0.2935 - accuracy: 0.8301\n",
      "Epoch 77/100\n",
      " 100/3579 [..............................] - ETA: 0s - loss: 0.2672 - accuracy: 0.8400WARNING:tensorflow:Early stopping conditioned on metric `val_loss` which is not available. Available metrics are: loss,accuracy\n"
     ]
    },
    {
     "name": "stdout",
     "output_type": "stream",
     "text": [
      "3579/3579 [==============================] - 0s 9us/sample - loss: 0.2910 - accuracy: 0.8385\n",
      "Epoch 78/100\n",
      " 100/3579 [..............................] - ETA: 0s - loss: 0.2740 - accuracy: 0.9000WARNING:tensorflow:Early stopping conditioned on metric `val_loss` which is not available. Available metrics are: loss,accuracy\n",
      "3579/3579 [==============================] - 0s 10us/sample - loss: 0.2922 - accuracy: 0.8410\n",
      "Epoch 79/100\n",
      " 100/3579 [..............................] - ETA: 0s - loss: 0.3468 - accuracy: 0.8000WARNING:tensorflow:Early stopping conditioned on metric `val_loss` which is not available. Available metrics are: loss,accuracy\n",
      "3579/3579 [==============================] - 0s 10us/sample - loss: 0.2883 - accuracy: 0.8486\n",
      "Epoch 80/100\n",
      " 100/3579 [..............................] - ETA: 0s - loss: 0.2743 - accuracy: 0.8400WARNING:tensorflow:Early stopping conditioned on metric `val_loss` which is not available. Available metrics are: loss,accuracy\n",
      "3579/3579 [==============================] - 0s 11us/sample - loss: 0.2926 - accuracy: 0.8346\n",
      "Epoch 81/100\n",
      " 100/3579 [..............................] - ETA: 0s - loss: 0.3073 - accuracy: 0.8200WARNING:tensorflow:Early stopping conditioned on metric `val_loss` which is not available. Available metrics are: loss,accuracy\n",
      "3579/3579 [==============================] - 0s 11us/sample - loss: 0.2920 - accuracy: 0.8365\n",
      "Epoch 82/100\n",
      " 100/3579 [..............................] - ETA: 0s - loss: 0.3332 - accuracy: 0.8000WARNING:tensorflow:Early stopping conditioned on metric `val_loss` which is not available. Available metrics are: loss,accuracy\n",
      "3579/3579 [==============================] - 0s 11us/sample - loss: 0.2939 - accuracy: 0.8351\n",
      "Epoch 83/100\n",
      " 100/3579 [..............................] - ETA: 0s - loss: 0.3024 - accuracy: 0.8400WARNING:tensorflow:Early stopping conditioned on metric `val_loss` which is not available. Available metrics are: loss,accuracy\n",
      "3579/3579 [==============================] - 0s 11us/sample - loss: 0.2991 - accuracy: 0.8349\n",
      "Epoch 84/100\n",
      " 100/3579 [..............................] - ETA: 0s - loss: 0.2806 - accuracy: 0.8400WARNING:tensorflow:Early stopping conditioned on metric `val_loss` which is not available. Available metrics are: loss,accuracy\n",
      "3579/3579 [==============================] - 0s 11us/sample - loss: 0.2911 - accuracy: 0.8382\n",
      "Epoch 85/100\n",
      " 100/3579 [..............................] - ETA: 0s - loss: 0.3641 - accuracy: 0.7800WARNING:tensorflow:Early stopping conditioned on metric `val_loss` which is not available. Available metrics are: loss,accuracy\n",
      "3579/3579 [==============================] - 0s 11us/sample - loss: 0.2998 - accuracy: 0.8349\n",
      "Epoch 86/100\n",
      " 100/3579 [..............................] - ETA: 0s - loss: 0.3727 - accuracy: 0.8100WARNING:tensorflow:Early stopping conditioned on metric `val_loss` which is not available. Available metrics are: loss,accuracy\n",
      "3579/3579 [==============================] - 0s 10us/sample - loss: 0.2877 - accuracy: 0.8463\n",
      "Epoch 87/100\n",
      " 100/3579 [..............................] - ETA: 0s - loss: 0.2995 - accuracy: 0.8500WARNING:tensorflow:Early stopping conditioned on metric `val_loss` which is not available. Available metrics are: loss,accuracy\n",
      "3579/3579 [==============================] - 0s 11us/sample - loss: 0.2913 - accuracy: 0.8399\n",
      "Epoch 88/100\n",
      " 100/3579 [..............................] - ETA: 0s - loss: 0.2643 - accuracy: 0.8600WARNING:tensorflow:Early stopping conditioned on metric `val_loss` which is not available. Available metrics are: loss,accuracy\n",
      "3579/3579 [==============================] - 0s 10us/sample - loss: 0.2936 - accuracy: 0.8446\n",
      "Epoch 89/100\n",
      " 100/3579 [..............................] - ETA: 0s - loss: 0.2425 - accuracy: 0.9100WARNING:tensorflow:Early stopping conditioned on metric `val_loss` which is not available. Available metrics are: loss,accuracy\n",
      "3579/3579 [==============================] - 0s 11us/sample - loss: 0.2870 - accuracy: 0.8455\n",
      "Epoch 90/100\n",
      " 100/3579 [..............................] - ETA: 0s - loss: 0.2673 - accuracy: 0.8200WARNING:tensorflow:Early stopping conditioned on metric `val_loss` which is not available. Available metrics are: loss,accuracy\n",
      "3579/3579 [==============================] - 0s 10us/sample - loss: 0.2911 - accuracy: 0.8413\n",
      "Epoch 91/100\n",
      " 100/3579 [..............................] - ETA: 0s - loss: 0.2883 - accuracy: 0.8800WARNING:tensorflow:Early stopping conditioned on metric `val_loss` which is not available. Available metrics are: loss,accuracy\n",
      "3579/3579 [==============================] - 0s 10us/sample - loss: 0.2886 - accuracy: 0.8393\n",
      "Epoch 92/100\n",
      " 100/3579 [..............................] - ETA: 0s - loss: 0.3019 - accuracy: 0.8500WARNING:tensorflow:Early stopping conditioned on metric `val_loss` which is not available. Available metrics are: loss,accuracy\n",
      "3579/3579 [==============================] - 0s 10us/sample - loss: 0.2883 - accuracy: 0.8377\n",
      "Epoch 93/100\n",
      " 100/3579 [..............................] - ETA: 0s - loss: 0.3390 - accuracy: 0.7900WARNING:tensorflow:Early stopping conditioned on metric `val_loss` which is not available. Available metrics are: loss,accuracy\n",
      "3579/3579 [==============================] - 0s 10us/sample - loss: 0.2873 - accuracy: 0.8433\n",
      "Epoch 94/100\n",
      " 100/3579 [..............................] - ETA: 0s - loss: 0.2546 - accuracy: 0.8400WARNING:tensorflow:Early stopping conditioned on metric `val_loss` which is not available. Available metrics are: loss,accuracy\n",
      "3579/3579 [==============================] - 0s 10us/sample - loss: 0.2917 - accuracy: 0.8357\n",
      "Epoch 95/100\n",
      " 100/3579 [..............................] - ETA: 0s - loss: 0.2555 - accuracy: 0.8800WARNING:tensorflow:Early stopping conditioned on metric `val_loss` which is not available. Available metrics are: loss,accuracy\n",
      "3579/3579 [==============================] - 0s 10us/sample - loss: 0.2901 - accuracy: 0.8396\n",
      "Epoch 96/100\n",
      " 100/3579 [..............................] - ETA: 0s - loss: 0.3632 - accuracy: 0.7700WARNING:tensorflow:Early stopping conditioned on metric `val_loss` which is not available. Available metrics are: loss,accuracy\n",
      "3579/3579 [==============================] - 0s 9us/sample - loss: 0.2879 - accuracy: 0.8438\n",
      "Epoch 97/100\n",
      " 100/3579 [..............................] - ETA: 0s - loss: 0.3245 - accuracy: 0.8200WARNING:tensorflow:Early stopping conditioned on metric `val_loss` which is not available. Available metrics are: loss,accuracy\n",
      "3579/3579 [==============================] - 0s 10us/sample - loss: 0.2860 - accuracy: 0.8446\n",
      "Epoch 98/100\n",
      " 100/3579 [..............................] - ETA: 0s - loss: 0.2264 - accuracy: 0.8800WARNING:tensorflow:Early stopping conditioned on metric `val_loss` which is not available. Available metrics are: loss,accuracy\n",
      "3579/3579 [==============================] - 0s 10us/sample - loss: 0.2882 - accuracy: 0.8399\n",
      "Epoch 99/100\n",
      " 100/3579 [..............................] - ETA: 0s - loss: 0.2572 - accuracy: 0.8700WARNING:tensorflow:Early stopping conditioned on metric `val_loss` which is not available. Available metrics are: loss,accuracy\n",
      "3579/3579 [==============================] - 0s 11us/sample - loss: 0.2865 - accuracy: 0.8483\n",
      "Epoch 100/100\n",
      " 100/3579 [..............................] - ETA: 0s - loss: 0.2443 - accuracy: 0.8400WARNING:tensorflow:Early stopping conditioned on metric `val_loss` which is not available. Available metrics are: loss,accuracy\n",
      "3579/3579 [==============================] - 0s 11us/sample - loss: 0.2943 - accuracy: 0.8338\n"
     ]
    },
    {
     "data": {
      "text/plain": [
       "<tensorflow.python.keras.callbacks.History at 0x7f7e006c7550>"
      ]
     },
     "execution_count": 78,
     "metadata": {},
     "output_type": "execute_result"
    }
   ],
   "source": [
    "model=tf.keras.Sequential()\n",
    "\n",
    "model.add(tf.keras.layers.Dense(50,activation='relu'))\n",
    "model.add(tf.keras.layers.Dense(50,activation='relu'))\n",
    "model.add(tf.keras.layers.Dense(2,activation='softmax'))\n",
    "\n",
    "model.compile(optimizer='adam',loss='sparse_categorical_crossentropy',metrics=['accuracy'])\n",
    "\n",
    "earlyStop=tf.keras.callbacks.EarlyStopping(patience=2)\n",
    "\n",
    "model.fit(train_inputs,train_targets,batch_size=100,epochs=100,verbose=1,callbacks=[earlyStop])"
   ]
  },
  {
   "cell_type": "markdown",
   "metadata": {},
   "source": [
    "## Model Testing\n"
   ]
  },
  {
   "cell_type": "code",
   "execution_count": 79,
   "metadata": {},
   "outputs": [
    {
     "name": "stdout",
     "output_type": "stream",
     "text": [
      "447/447 [==============================] - 0s 144us/sample - loss: 0.3615 - accuracy: 0.7964\n"
     ]
    },
    {
     "data": {
      "text/plain": [
       "[0.3614837938640475, 0.7964206]"
      ]
     },
     "execution_count": 79,
     "metadata": {},
     "output_type": "execute_result"
    }
   ],
   "source": [
    "model.evaluate(test_inputs,test_targets)"
   ]
  }
 ],
 "metadata": {
  "kernelspec": {
   "display_name": "Python 3",
   "language": "python",
   "name": "python3"
  },
  "language_info": {
   "codemirror_mode": {
    "name": "ipython",
    "version": 3
   },
   "file_extension": ".py",
   "mimetype": "text/x-python",
   "name": "python",
   "nbconvert_exporter": "python",
   "pygments_lexer": "ipython3",
   "version": "3.6.10"
  }
 },
 "nbformat": 4,
 "nbformat_minor": 4
}
